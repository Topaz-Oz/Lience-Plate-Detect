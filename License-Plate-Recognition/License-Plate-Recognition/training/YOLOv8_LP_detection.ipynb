{
 "cells": [
  {
   "cell_type": "markdown",
   "id": "940b9a76",
   "metadata": {},
   "source": [
    "# License Plate Detection Training with YOLOv8 (CPU Version)\n",
    "\n",
    "Notebook này huấn luyện model YOLOv8 để phát hiện vị trí biển số xe, tối ưu cho CPU"
   ]
  },
  {
   "cell_type": "code",
   "execution_count": null,
   "id": "060f18d4",
   "metadata": {},
   "outputs": [
    {
     "name": "stdout",
     "output_type": "stream",
     "text": [
      "Requirement already satisfied: ultralytics in c:\\users\\toant\\anaconda3\\lib\\site-packages (8.3.109)Note: you may need to restart the kernel to use updated packages.\n",
      "\n",
      "Requirement already satisfied: numpy<=2.1.1,>=1.23.0 in c:\\users\\toant\\anaconda3\\lib\\site-packages (from ultralytics) (1.26.4)\n",
      "Requirement already satisfied: matplotlib>=3.3.0 in c:\\users\\toant\\anaconda3\\lib\\site-packages (from ultralytics) (3.9.2)\n",
      "Requirement already satisfied: opencv-python>=4.6.0 in c:\\users\\toant\\anaconda3\\lib\\site-packages (from ultralytics) (4.11.0.86)\n",
      "Requirement already satisfied: pillow>=7.1.2 in c:\\users\\toant\\anaconda3\\lib\\site-packages (from ultralytics) (10.4.0)\n",
      "Requirement already satisfied: pyyaml>=5.3.1 in c:\\users\\toant\\anaconda3\\lib\\site-packages (from ultralytics) (6.0.1)\n",
      "Requirement already satisfied: requests>=2.23.0 in c:\\users\\toant\\anaconda3\\lib\\site-packages (from ultralytics) (2.32.3)\n",
      "Requirement already satisfied: scipy>=1.4.1 in c:\\users\\toant\\anaconda3\\lib\\site-packages (from ultralytics) (1.13.1)\n",
      "Requirement already satisfied: torch>=1.8.0 in c:\\users\\toant\\anaconda3\\lib\\site-packages (from ultralytics) (2.6.0)\n",
      "Requirement already satisfied: torchvision>=0.9.0 in c:\\users\\toant\\anaconda3\\lib\\site-packages (from ultralytics) (0.21.0)\n",
      "Requirement already satisfied: tqdm>=4.64.0 in c:\\users\\toant\\anaconda3\\lib\\site-packages (from ultralytics) (4.66.5)\n",
      "Requirement already satisfied: psutil in c:\\users\\toant\\anaconda3\\lib\\site-packages (from ultralytics) (5.9.0)\n",
      "Requirement already satisfied: py-cpuinfo in c:\\users\\toant\\anaconda3\\lib\\site-packages (from ultralytics) (9.0.0)\n",
      "Requirement already satisfied: pandas>=1.1.4 in c:\\users\\toant\\anaconda3\\lib\\site-packages (from ultralytics) (2.2.2)\n",
      "Requirement already satisfied: seaborn>=0.11.0 in c:\\users\\toant\\anaconda3\\lib\\site-packages (from ultralytics) (0.13.2)\n",
      "Requirement already satisfied: ultralytics-thop>=2.0.0 in c:\\users\\toant\\anaconda3\\lib\\site-packages (from ultralytics) (2.0.14)\n",
      "Requirement already satisfied: contourpy>=1.0.1 in c:\\users\\toant\\anaconda3\\lib\\site-packages (from matplotlib>=3.3.0->ultralytics) (1.2.0)\n",
      "Requirement already satisfied: cycler>=0.10 in c:\\users\\toant\\anaconda3\\lib\\site-packages (from matplotlib>=3.3.0->ultralytics) (0.11.0)\n",
      "Requirement already satisfied: fonttools>=4.22.0 in c:\\users\\toant\\anaconda3\\lib\\site-packages (from matplotlib>=3.3.0->ultralytics) (4.51.0)\n",
      "Requirement already satisfied: kiwisolver>=1.3.1 in c:\\users\\toant\\anaconda3\\lib\\site-packages (from matplotlib>=3.3.0->ultralytics) (1.4.4)\n",
      "Requirement already satisfied: packaging>=20.0 in c:\\users\\toant\\anaconda3\\lib\\site-packages (from matplotlib>=3.3.0->ultralytics) (24.1)\n",
      "Requirement already satisfied: pyparsing>=2.3.1 in c:\\users\\toant\\anaconda3\\lib\\site-packages (from matplotlib>=3.3.0->ultralytics) (3.1.2)\n",
      "Requirement already satisfied: python-dateutil>=2.7 in c:\\users\\toant\\anaconda3\\lib\\site-packages (from matplotlib>=3.3.0->ultralytics) (2.9.0.post0)\n",
      "Requirement already satisfied: pytz>=2020.1 in c:\\users\\toant\\anaconda3\\lib\\site-packages (from pandas>=1.1.4->ultralytics) (2024.1)\n",
      "Requirement already satisfied: tzdata>=2022.7 in c:\\users\\toant\\anaconda3\\lib\\site-packages (from pandas>=1.1.4->ultralytics) (2023.3)\n",
      "Requirement already satisfied: charset-normalizer<4,>=2 in c:\\users\\toant\\anaconda3\\lib\\site-packages (from requests>=2.23.0->ultralytics) (3.3.2)\n",
      "Requirement already satisfied: idna<4,>=2.5 in c:\\users\\toant\\anaconda3\\lib\\site-packages (from requests>=2.23.0->ultralytics) (3.7)\n",
      "Requirement already satisfied: urllib3<3,>=1.21.1 in c:\\users\\toant\\anaconda3\\lib\\site-packages (from requests>=2.23.0->ultralytics) (2.2.3)\n",
      "Requirement already satisfied: certifi>=2017.4.17 in c:\\users\\toant\\anaconda3\\lib\\site-packages (from requests>=2.23.0->ultralytics) (2025.1.31)\n",
      "Requirement already satisfied: filelock in c:\\users\\toant\\anaconda3\\lib\\site-packages (from torch>=1.8.0->ultralytics) (3.13.1)\n",
      "Requirement already satisfied: typing-extensions>=4.10.0 in c:\\users\\toant\\anaconda3\\lib\\site-packages (from torch>=1.8.0->ultralytics) (4.11.0)\n",
      "Requirement already satisfied: networkx in c:\\users\\toant\\anaconda3\\lib\\site-packages (from torch>=1.8.0->ultralytics) (3.3)\n",
      "Requirement already satisfied: jinja2 in c:\\users\\toant\\anaconda3\\lib\\site-packages (from torch>=1.8.0->ultralytics) (3.1.4)\n",
      "Requirement already satisfied: fsspec in c:\\users\\toant\\anaconda3\\lib\\site-packages (from torch>=1.8.0->ultralytics) (2024.6.1)\n",
      "Requirement already satisfied: setuptools in c:\\users\\toant\\anaconda3\\lib\\site-packages (from torch>=1.8.0->ultralytics) (75.1.0)\n",
      "Requirement already satisfied: sympy==1.13.1 in c:\\users\\toant\\anaconda3\\lib\\site-packages (from torch>=1.8.0->ultralytics) (1.13.1)\n",
      "Requirement already satisfied: mpmath<1.4,>=1.1.0 in c:\\users\\toant\\anaconda3\\lib\\site-packages (from sympy==1.13.1->torch>=1.8.0->ultralytics) (1.3.0)\n",
      "Requirement already satisfied: colorama in c:\\users\\toant\\anaconda3\\lib\\site-packages (from tqdm>=4.64.0->ultralytics) (0.4.6)\n",
      "Requirement already satisfied: six>=1.5 in c:\\users\\toant\\anaconda3\\lib\\site-packages (from python-dateutil>=2.7->matplotlib>=3.3.0->ultralytics) (1.16.0)\n",
      "Requirement already satisfied: MarkupSafe>=2.0 in c:\\users\\toant\\anaconda3\\lib\\site-packages (from jinja2->torch>=1.8.0->ultralytics) (2.1.3)\n",
      "Using CUDA: False\n"
     ]
    }
   ],
   "source": [
    "# Cài đặt thư viện cần thiết\n",
    "%pip install ultralytics\n",
    "\n",
    "from ultralytics import YOLO\n",
    "import torch\n",
    "import matplotlib.pyplot as plt\n",
    "import yaml\n",
    "import os\n",
    "\n",
    "# Kiểm tra thiết bị\n",
    "device = 'cpu'  # Force CPU\n",
    "print(f\"Training on: {device}\")"
   ]
  },
  {
   "cell_type": "markdown",
   "id": "5f0ba13d",
   "metadata": {},
   "source": [
    "## Kiểm tra Dataset\n",
    "Xác nhận cấu trúc dataset trước khi training"
   ]
  },
  {
   "cell_type": "code",
   "execution_count": null,
   "id": "eea17167",
   "metadata": {},
   "outputs": [
    {
     "name": "stdout",
     "output_type": "stream",
     "text": [
      "Dataset configuration:\n",
      "- Path: ../images\n",
      "- Train: train\n",
      "- Val: val\n",
      "- Classes: ['license_plate']\n",
      "\n",
      "Số lượng ảnh:\n",
      "- Training: 3433 ảnh\n",
      "- Validation: 1145 ảnh\n"
     ]
    }
   ],
   "source": [
    "# Load và kiểm tra cấu hình dataset\n",
    "yaml_path = '../training/LP_detection.yaml'\n",
    "\n",
    "with open(yaml_path, 'r') as f:\n",
    "    cfg = yaml.safe_load(f)\n",
    "\n",
    "print(\"Dataset configuration:\")\n",
    "print(f\"- Path: {cfg['path']}\")\n",
    "print(f\"- Train: {cfg['train']}\")\n",
    "print(f\"- Val: {cfg['val']}\")\n",
    "\n",
    "# Kiểm tra số lượng ảnh\n",
    "train_path = os.path.join(cfg['path'], cfg['train'])\n",
    "val_path = os.path.join(cfg['path'], cfg['val'])\n",
    "\n",
    "train_images = len([f for f in os.listdir(train_path) if f.endswith(('.jpg', '.png', '.jpeg'))])\n",
    "val_images = len([f for f in os.listdir(val_path) if f.endswith(('.jpg', '.png', '.jpeg'))])\n",
    "\n",
    "print(f\"\\nSố lượng ảnh:\")\n",
    "print(f\"- Training: {train_images} ảnh\")\n",
    "print(f\"- Validation: {val_images} ảnh\")"
   ]
  },
  {
   "cell_type": "markdown",
   "id": "7431e5b3",
   "metadata": {},
   "source": [
    "## Training Model\n",
    "Huấn luyện YOLOv8 với cấu hình tối ưu cho CPU"
   ]
  },
  {
   "cell_type": "code",
   "execution_count": null,
   "id": "4fe881e9",
   "metadata": {},
   "outputs": [
    {
     "ename": "NameError",
     "evalue": "name 'YOLO' is not defined",
     "output_type": "error",
     "traceback": [
      "\u001b[1;31m---------------------------------------------------------------------------\u001b[0m",
      "\u001b[1;31mNameError\u001b[0m                                 Traceback (most recent call last)",
      "Cell \u001b[1;32mIn[1], line 2\u001b[0m\n\u001b[0;32m      1\u001b[0m \u001b[38;5;66;03m# Tạo model YOLOv8n mới\u001b[39;00m\n\u001b[1;32m----> 2\u001b[0m model \u001b[38;5;241m=\u001b[39m YOLO(\u001b[38;5;124m'\u001b[39m\u001b[38;5;124myolov8n.pt\u001b[39m\u001b[38;5;124m'\u001b[39m)\n\u001b[0;32m      4\u001b[0m \u001b[38;5;66;03m# Train với cấu hình tối ưu cho phát hiện biển số\u001b[39;00m\n\u001b[0;32m      5\u001b[0m results \u001b[38;5;241m=\u001b[39m model\u001b[38;5;241m.\u001b[39mtrain(\n\u001b[0;32m      6\u001b[0m     data\u001b[38;5;241m=\u001b[39m\u001b[38;5;124m'\u001b[39m\u001b[38;5;124mLP_detection.yaml\u001b[39m\u001b[38;5;124m'\u001b[39m,\n\u001b[0;32m      7\u001b[0m     epochs\u001b[38;5;241m=\u001b[39m\u001b[38;5;241m100\u001b[39m,\n\u001b[1;32m   (...)\u001b[0m\n\u001b[0;32m     37\u001b[0m     close_mosaic\u001b[38;5;241m=\u001b[39m\u001b[38;5;241m10\u001b[39m\n\u001b[0;32m     38\u001b[0m )\n",
      "\u001b[1;31mNameError\u001b[0m: name 'YOLO' is not defined"
     ]
    }
   ],
   "source": [
    "# Tạo model YOLOv8n mới\n",
    "model = YOLO('yolov8n.pt')\n",
    "\n",
    "# Train với cấu hình tối ưu cho CPU\n",
    "results = model.train(\n",
    "    data=yaml_path,\n",
    "    epochs=100,\n",
    "    imgsz=640,\n",
    "    batch=8,  # Giảm batch size cho CPU\n",
    "    device='cpu',\n",
    "    name='LP_detector_v8_cpu',\n",
    "    cache=True,  # Cache images để tăng tốc training\n",
    "    # Data augmentation (giảm để phù hợp với CPU)\n",
    "    hsv_h=0.015,\n",
    "    hsv_s=0.5,\n",
    "    hsv_v=0.3,\n",
    "    degrees=10.0,\n",
    "    translate=0.2,\n",
    "    scale=0.3,\n",
    "    shear=2.0,\n",
    "    perspective=0.0005,\n",
    "    flipud=0.01,\n",
    "    fliplr=0.3,\n",
    "    mosaic=0.5,  # Giảm mosaic aug\n",
    "    mixup=0.0,   # Tắt mixup để giảm tải CPU\n",
    "    copy_paste=0.0,  # Tắt copy-paste để giảm tải CPU\n",
    "    # Tham số huấn luyện\n",
    "    warmup_epochs=3,\n",
    "    patience=20,\n",
    "    lr0=0.01,\n",
    "    lrf=0.001,\n",
    "    momentum=0.937,\n",
    "    weight_decay=0.0005,\n",
    "    # Tối ưu cho object detection\n",
    "    box=7.5,\n",
    "    cls=0.3,\n",
    "    dfl=1.5,\n",
    "    close_mosaic=10,\n",
    "    # CPU optimization\n",
    "    workers=1,  # Giảm số workers\n",
    "    save_period=20  # Lưu checkpoint sau mỗi 20 epochs\n",
    ")"
   ]
  },
  {
   "cell_type": "markdown",
   "id": "99ee1971",
   "metadata": {},
   "source": [
    "## Training Metrics\n",
    "Vẽ biểu đồ các metrics trong quá trình training"
   ]
  },
  {
   "cell_type": "code",
   "execution_count": null,
   "id": "42f85b56",
   "metadata": {},
   "outputs": [],
   "source": [
    "# Plot training metrics\n",
    "plt.figure(figsize=(20, 10))\n",
    "\n",
    "# Plot losses\n",
    "plt.subplot(2, 2, 1)\n",
    "plt.plot(results.results_dict['train/box_loss'], label='train')\n",
    "plt.plot(results.results_dict['val/box_loss'], label='val')\n",
    "plt.title('Box Loss')\n",
    "plt.xlabel('Epoch')\n",
    "plt.legend()\n",
    "\n",
    "plt.subplot(2, 2, 2)\n",
    "plt.plot(results.results_dict['metrics/precision'], label='precision')\n",
    "plt.plot(results.results_dict['metrics/recall'], label='recall')\n",
    "plt.title('Precision & Recall')\n",
    "plt.xlabel('Epoch')\n",
    "plt.legend()\n",
    "\n",
    "plt.subplot(2, 2, 3)\n",
    "plt.plot(results.results_dict['metrics/mAP50(B)'], label='mAP50')\n",
    "plt.plot(results.results_dict['metrics/mAP50-95(B)'], label='mAP50-95')\n",
    "plt.title('Mean Average Precision')\n",
    "plt.xlabel('Epoch')\n",
    "plt.legend()\n",
    "\n",
    "plt.tight_layout()\n",
    "plt.show()"
   ]
  },
  {
   "cell_type": "markdown",
   "id": "061f134e",
   "metadata": {},
   "source": [
    "## Validate Model\n",
    "Đánh giá model trên tập validation"
   ]
  },
  {
   "cell_type": "code",
   "execution_count": null,
   "id": "31a7872a",
   "metadata": {},
   "outputs": [],
   "source": [
    "# Validate model\n",
    "val_results = model.val()\n",
    "\n",
    "print(\"\\nValidation Results:\")\n",
    "metrics = [\n",
    "    'metrics/precision(B)',\n",
    "    'metrics/recall(B)',\n",
    "    'metrics/mAP50(B)',\n",
    "    'metrics/mAP50-95(B)'\n",
    "]\n",
    "\n",
    "for metric in metrics:\n",
    "    if metric in val_results.results_dict:\n",
    "        print(f\"{metric}: {val_results.results_dict[metric]:.4f}\")"
   ]
  },
  {
   "cell_type": "markdown",
   "id": "e6c8dc47",
   "metadata": {},
   "source": [
    "## Test Model\n",
    "Kiểm tra model trên một số ảnh test"
   ]
  },
  {
   "cell_type": "code",
   "execution_count": null,
   "id": "a6a9730a",
   "metadata": {},
   "outputs": [],
   "source": [
    "# Test model trên ảnh mẫu\n",
    "test_images = ['../test_image/1.jpg', '../test_image/3.jpg']\n",
    "\n",
    "for img_path in test_images:\n",
    "    results = model.predict(\n",
    "        source=img_path,\n",
    "        conf=0.25,\n",
    "        iou=0.45,\n",
    "        save=True\n",
    "    )\n",
    "    \n",
    "    # Hiển thị kết quả\n",
    "    plt.figure(figsize=(12, 8))\n",
    "    plt.imshow(results[0].plot())\n",
    "    plt.axis('off')\n",
    "    plt.title(f'Detection Results - {os.path.basename(img_path)}')\n",
    "    plt.show()\n",
    "    \n",
    "    # In thông tin dự đoán\n",
    "    print(f\"\\nResults for {os.path.basename(img_path)}:\")\n",
    "    for box in results[0].boxes:\n",
    "        print(f\"Confidence: {box.conf[0]:.2f}\")"
   ]
  }
 ],
 "metadata": {
  "kernelspec": {
   "display_name": "base",
   "language": "python",
   "name": "python3"
  },
  "language_info": {
   "codemirror_mode": {
    "name": "ipython",
    "version": 3
   },
   "file_extension": ".py",
   "mimetype": "text/x-python",
   "name": "python",
   "nbconvert_exporter": "python",
   "pygments_lexer": "ipython3",
   "version": "3.12.7"
  }
 },
 "nbformat": 4,
 "nbformat_minor": 5
}
